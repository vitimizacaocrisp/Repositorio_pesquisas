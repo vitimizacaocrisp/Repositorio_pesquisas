{
 "cells": [
  {
   "cell_type": "code",
   "execution_count": null,
   "id": "a279d049",
   "metadata": {},
   "outputs": [],
   "source": [
    "# Análise Genérica de Dados de Criminalidade\n",
    "# ------------------------------------------\n",
    "\n",
    "# Importações\n",
    "import pandas as pd\n",
    "import numpy as np\n",
    "import os\n",
    "import glob\n",
    "import matplotlib.pyplot as plt\n",
    "import seaborn as sns\n",
    "\n",
    "from openpyxl import load_workbook\n",
    "from IPython.display import display\n",
    "\n",
    "# Configurações de exibição\n",
    "plt.style.use('ggplot')\n",
    "pd.set_option('display.max_columns', None)\n",
    "pd.set_option('display.width', 1000)\n"
   ]
  }
 ],
 "metadata": {
  "language_info": {
   "name": "python"
  }
 },
 "nbformat": 4,
 "nbformat_minor": 5
}
