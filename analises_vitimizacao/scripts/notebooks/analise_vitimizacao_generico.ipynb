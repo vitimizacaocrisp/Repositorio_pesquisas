{
  "cells": [
    {
      "cell_type": "markdown",
      "source": [
        "# Instalação de Bibliotecas"
      ],
      "metadata": {
        "id": "fvcclc2xddWI"
      }
    },
    {
      "cell_type": "code",
      "source": [
        "pip install tabula-py PyMuPDF openpyxl seaborn"
      ],
      "metadata": {
        "id": "STcAz7xYdWOR"
      },
      "execution_count": null,
      "outputs": []
    },
    {
      "cell_type": "markdown",
      "metadata": {
        "id": "1qk8TTpwb6WG"
      },
      "source": [
        "# 🧩 Etapa 1: Preparar o Ambiente"
      ]
    },
    {
      "cell_type": "code",
      "execution_count": null,
      "metadata": {
        "id": "Jd8r5lx0b6WI"
      },
      "outputs": [],
      "source": [
        "import pandas as pd\n",
        "import numpy as np\n",
        "import matplotlib.pyplot as plt\n",
        "import seaborn as sns\n",
        "import tabula\n",
        "import fitz  # PyMuPDF\n",
        "import os\n",
        "\n",
        "sns.set_theme(style=\"whitegrid\")"
      ]
    },
    {
      "cell_type": "markdown",
      "metadata": {
        "id": "aQEnVklXb6WJ"
      },
      "source": [
        "# 📂 Etapa 2: Carregar os Dados"
      ]
    },
    {
      "cell_type": "code",
      "execution_count": null,
      "metadata": {
        "id": "51qTx-vab6WJ"
      },
      "outputs": [],
      "source": [
        "# Caminhos dos arquivos (exemplo)\n",
        "caminho_csv = \"/caminho/para/dados.csv\"\n",
        "caminho_xlsx = \"/caminho/para/dados.xlsx\"\n",
        "caminho_pdf = \"/caminho/para/relatorio.pdf\"\n",
        "\n",
        "# CSV\n",
        "try:\n",
        "    dados_csv = pd.read_csv(caminho_csv)\n",
        "    print(\"CSV carregado com sucesso.\")\n",
        "except Exception as e:\n",
        "    print(\"Erro ao carregar CSV:\", e)\n",
        "\n",
        "# XLSX\n",
        "try:\n",
        "    dados_xlsx = pd.read_excel(caminho_xlsx)\n",
        "    print(\"XLSX carregado com sucesso.\")\n",
        "except Exception as e:\n",
        "    print(\"Erro ao carregar XLSX:\", e)\n",
        "\n",
        "# PDF (Tabular)\n",
        "try:\n",
        "    tabelas_pdf = tabula.read_pdf(caminho_pdf, pages='paginas', multiple_tables=True)\n",
        "    print(f\"{len(tabelas_pdf)} tabelas extraídas do PDF.\")\n",
        "except Exception as e:\n",
        "    print(\"Erro ao extrair dados do PDF:\", e)"
      ]
    },
    {
      "cell_type": "markdown",
      "metadata": {
        "id": "OgLSbNuRb6WK"
      },
      "source": [
        "# 🔍 Etapa 3: Tratamento e Amostragem dos Dados"
      ]
    },
    {
      "cell_type": "code",
      "execution_count": null,
      "metadata": {
        "id": "_aIqKLs4b6WK"
      },
      "outputs": [],
      "source": [
        "# Tratamento de dados - Remoção de nulos e padronização de colunas\n",
        "\n",
        "def tratar_dataframe(df):\n",
        "    # Remover colunas completamente vazias\n",
        "    df = df.dropna(axis=1, how='all')\n",
        "\n",
        "    # Remover linhas completamente vazias\n",
        "    df = df.dropna(axis=0, how='all')\n",
        "\n",
        "    # Preencher valores nulos com string vazia ou zero (dependendo do tipo de dado)\n",
        "    df = df.fillna('' if df.dtypes.any() == object else 0)\n",
        "\n",
        "    # Padronizar nomes das colunas (remover espaços, deixar minúsculo, substituir por underline)\n",
        "    df.columns = [col.strip().lower().replace(' ', '_') for col in df.columns]\n",
        "\n",
        "    return df\n",
        "\n",
        "# Aplicar o tratamento nos dados, se existirem\n",
        "if 'dados_csv' in locals():\n",
        "    dados_csv = tratar_dataframe(dados_csv)\n",
        "\n",
        "if 'dados_xlsx' in locals():\n",
        "    dados_xlsx = tratar_dataframe(dados_xlsx)\n",
        "\n",
        "if 'tabelas_pdf' in locals():\n",
        "    tabelas_pdf = [tratar_dataframe(tabela) for tabela in tabelas_pdf]\n",
        "\n",
        "print(\"Tratamento de dados concluído.\")\n",
        "\n",
        "# Exibir as 5 primeiras linhas de cada fonte (se carregadas)\n",
        "if 'dados_csv' in locals():\n",
        "    display(dados_csv.head())\n",
        "\n",
        "if 'dados_xlsx' in locals():\n",
        "    display(dados_xlsx.head())\n",
        "\n",
        "if 'tabelas_pdf' in locals():\n",
        "    for i, tabela in enumerate(tabelas_pdf):\n",
        "        print(f\"\\nTabela {i+1} do PDF:\")\n",
        "        display(tabela.head())\n"
      ]
    },
    {
      "cell_type": "markdown",
      "metadata": {
        "id": "vEMH_rzdb6WL"
      },
      "source": [
        "# 📊 Etapa 4: Análise Exploratória"
      ]
    },
    {
      "cell_type": "code",
      "execution_count": null,
      "metadata": {
        "id": "M_zwxdwob6WL"
      },
      "outputs": [],
      "source": [
        "# Verificar colunas disponíveis\n",
        "if 'dados_csv' in locals():\n",
        "    print(\"Colunas CSV:\", dados_csv.columns)\n",
        "\n",
        "# Contagem por tipo de crime (exemplo)\n",
        "if 'dados_csv' in locals() and 'TipoCrime' in dados_csv.columns:\n",
        "    plt.figure(figsize=(10, 6))\n",
        "    sns.countplot(data=dados_csv, y='TipoCrime', order=dados_csv['TipoCrime'].value_counts().index)\n",
        "    plt.title(\"Distribuição dos Tipos de Crime\")\n",
        "    plt.xlabel(\"Frequência\")\n",
        "    plt.ylabel(\"Tipo de Crime\")\n",
        "    plt.show()"
      ]
    },
    {
      "cell_type": "markdown",
      "source": [
        "**Categoria A**"
      ],
      "metadata": {
        "id": "wkAXvuKnwDFu"
      }
    },
    {
      "cell_type": "code",
      "source": [],
      "metadata": {
        "id": "Ysd9Vw10wHiG"
      },
      "execution_count": null,
      "outputs": []
    },
    {
      "cell_type": "markdown",
      "source": [
        "**Categoria B**"
      ],
      "metadata": {
        "id": "78SbwmXFwILd"
      }
    },
    {
      "cell_type": "code",
      "source": [],
      "metadata": {
        "id": "GLZ4isS_wMlR"
      },
      "execution_count": null,
      "outputs": []
    },
    {
      "cell_type": "markdown",
      "metadata": {
        "id": "pLrdSEmYb6WL"
      },
      "source": [
        "# 🧠 Etapa 5: Observar Padrões e Anomalias"
      ]
    },
    {
      "cell_type": "code",
      "execution_count": null,
      "metadata": {
        "id": "COOKNWcFb6WM"
      },
      "outputs": [],
      "source": [
        "# Tendência anual\n",
        "if 'dados_csv' in locals() and 'Ano' in dados_csv.columns:\n",
        "    tendencia = dados_csv.groupby('Ano').size()\n",
        "    tendencia.plot(kind='line', marker='o', figsize=(10,5), title='Tendência de Ocorrências por Ano')\n",
        "    plt.ylabel(\"Número de Ocorrências\")\n",
        "    plt.grid(True)\n",
        "    plt.show()\n",
        "\n",
        "# Comparar regiões\n",
        "if 'dados_csv' in locals() and 'Regiao' in dados_csv.columns:\n",
        "    plt.figure(figsize=(10,6))\n",
        "    sns.countplot(data=dados_csv, x='Regiao', order=dados_csv['Regiao'].value_counts().index)\n",
        "    plt.title(\"Distribuição por Região\")\n",
        "    plt.xticks(rotation=45)\n",
        "    plt.show()"
      ]
    },
    {
      "cell_type": "markdown",
      "source": [
        "**Categoria A**"
      ],
      "metadata": {
        "id": "m4FA9hL1wPRo"
      }
    },
    {
      "cell_type": "code",
      "source": [],
      "metadata": {
        "id": "Lulmvb6hwPRo"
      },
      "execution_count": null,
      "outputs": []
    },
    {
      "cell_type": "markdown",
      "source": [
        "**Conclusão**\n",
        "\n",
        "TextoTextoTextoTextoTextoTextoTextoTextoTexto"
      ],
      "metadata": {
        "id": "E8eXtW-4wpj1"
      }
    },
    {
      "cell_type": "markdown",
      "source": [
        "**Categoria B**"
      ],
      "metadata": {
        "id": "8W38bLLOwPRo"
      }
    },
    {
      "cell_type": "code",
      "source": [],
      "metadata": {
        "id": "eBUYv7XHwPRp"
      },
      "execution_count": null,
      "outputs": []
    },
    {
      "cell_type": "markdown",
      "source": [
        "**Conclusão**\n",
        "\n",
        "TextoTextoTextoTextoTextoTextoTextoTextoTexto"
      ],
      "metadata": {
        "id": "FBGBcOoywmbb"
      }
    },
    {
      "cell_type": "markdown",
      "metadata": {
        "id": "Xlp-GUE8b6WM"
      },
      "source": [
        "# 📝 Etapa 6: Conclusões"
      ]
    },
    {
      "cell_type": "code",
      "execution_count": null,
      "metadata": {
        "id": "LE_hFha2b6WM"
      },
      "outputs": [],
      "source": [
        "from IPython.display import Markdown\n",
        "\n",
        "Markdown(\"\"\"## Conclusões Preliminares\n",
        "\n",
        "- Tendência: [Descrever aumento/quedas observadas]\n",
        "- Regiões com destaque: [Citar regiões com maiores/menores ocorrências]\n",
        "- Diferença entre fontes: [Comparar CSV/XLSX/PDF se aplicável]\n",
        "- Relações entre variáveis: [Exemplo: aumento de vitimização em anos eleitorais]\n",
        "\"\"\")"
      ]
    },
    {
      "cell_type": "markdown",
      "source": [
        "Texto detalhado com conclusão geral falando de cada analise"
      ],
      "metadata": {
        "id": "WvZyg8vjws9V"
      }
    },
    {
      "cell_type": "markdown",
      "metadata": {
        "id": "0H6Gt_Hnb6WM"
      },
      "source": [
        "# 🧩 Etapa 7: Exportar Resultados"
      ]
    },
    {
      "cell_type": "code",
      "execution_count": null,
      "metadata": {
        "id": "ErJSOq2fb6WM"
      },
      "outputs": [],
      "source": [
        "# Exemplo: salvar CSV com dados limpos\n",
        "if 'dados_csv' in locals():\n",
        "    dados_csv.to_csv(\"dados_vitimizacao_limpos.csv\", index=False)\n",
        "    print(\"Dados exportados para 'dados_vitimizacao_limpos.csv'\")"
      ]
    }
  ],
  "metadata": {
    "kernelspec": {
      "display_name": "Python 3",
      "language": "python",
      "name": "python3"
    },
    "language_info": {
      "name": "python",
      "version": "3.9"
    },
    "colab": {
      "provenance": []
    }
  },
  "nbformat": 4,
  "nbformat_minor": 0
}